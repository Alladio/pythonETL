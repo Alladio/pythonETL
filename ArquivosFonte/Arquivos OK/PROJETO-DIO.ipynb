{
 "cells": [
  {
   "cell_type": "code",
   "execution_count": null,
   "id": "ab695aa2-d6c6-4aa1-92e8-16e3dca96ca4",
   "metadata": {},
   "outputs": [],
   "source": [
    "import pandas as pd\n",
    "import pandera as pa"
   ]
  },
  {
   "cell_type": "code",
   "execution_count": null,
   "id": "aab2575c-a35d-435b-aad5-c0a72e49e159",
   "metadata": {},
   "outputs": [],
   "source": [
    "df = pd.read_csv(\"ocorrencia.csv\", parse_dates=['ocorrencia_dia'], dayfirst=True)\n",
    "df.head(10)\n"
   ]
  }
 ],
 "metadata": {
  "kernelspec": {
   "display_name": "Python 3 (ipykernel)",
   "language": "python",
   "name": "python3"
  },
  "language_info": {
   "codemirror_mode": {
    "name": "ipython",
    "version": 3
   },
   "file_extension": ".py",
   "mimetype": "text/x-python",
   "name": "python",
   "nbconvert_exporter": "python",
   "pygments_lexer": "ipython3",
   "version": "3.8.5"
  }
 },
 "nbformat": 4,
 "nbformat_minor": 5
}
