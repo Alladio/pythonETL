{
 "cells": [
  {
   "cell_type": "code",
   "execution_count": null,
   "id": "575b4311-29b8-45a3-9de8-4498bb7e2dbc",
   "metadata": {},
   "outputs": [],
   "source": []
  }
 ],
 "metadata": {
  "kernelspec": {
   "display_name": "Python 3 (ipykernel)",
   "language": "python",
   "name": "python3"
  },
  "language_info": {
   "name": ""
  }
 },
 "nbformat": 4,
 "nbformat_minor": 5
}
