{
 "cells": [
  {
   "cell_type": "code",
   "execution_count": 1,
   "id": "36c7b144-9b83-47a6-b0cb-2fef7763dc35",
   "metadata": {},
   "outputs": [],
   "source": [
    "import pandas as pd\n",
    "import pandera as pa"
   ]
  },
  {
   "cell_type": "code",
   "execution_count": 2,
   "id": "4ac3e22f-c05c-4b38-9532-917fd152c2b9",
   "metadata": {},
   "outputs": [
    {
     "data": {
      "text/html": [
       "<div>\n",
       "<style scoped>\n",
       "    .dataframe tbody tr th:only-of-type {\n",
       "        vertical-align: middle;\n",
       "    }\n",
       "\n",
       "    .dataframe tbody tr th {\n",
       "        vertical-align: top;\n",
       "    }\n",
       "\n",
       "    .dataframe thead th {\n",
       "        text-align: right;\n",
       "    }\n",
       "</style>\n",
       "<table border=\"1\" class=\"dataframe\">\n",
       "  <thead>\n",
       "    <tr style=\"text-align: right;\">\n",
       "      <th></th>\n",
       "      <th>codigo_ocorrencia</th>\n",
       "      <th>codigo_ocorrencia1</th>\n",
       "      <th>ocorrencia_classificacao</th>\n",
       "      <th>ocorrencia_cidade</th>\n",
       "      <th>ocorrencia_uf</th>\n",
       "      <th>ocorrencia_aerodromo</th>\n",
       "      <th>ocorrencia_dia</th>\n",
       "      <th>ocorrencia_hora</th>\n",
       "      <th>total_recomendacoes</th>\n",
       "    </tr>\n",
       "  </thead>\n",
       "  <tbody>\n",
       "    <tr>\n",
       "      <th>0</th>\n",
       "      <td>40211</td>\n",
       "      <td>40211</td>\n",
       "      <td>INCIDENTE</td>\n",
       "      <td>RIO DE JANEIRO</td>\n",
       "      <td>RJ</td>\n",
       "      <td>****</td>\n",
       "      <td>2010-01-03</td>\n",
       "      <td>12:00:00</td>\n",
       "      <td>0.0</td>\n",
       "    </tr>\n",
       "    <tr>\n",
       "      <th>1</th>\n",
       "      <td>40349</td>\n",
       "      <td>40349</td>\n",
       "      <td>INCIDENTE</td>\n",
       "      <td>BELÉM</td>\n",
       "      <td>PA</td>\n",
       "      <td>SBBE</td>\n",
       "      <td>2010-01-03</td>\n",
       "      <td>11:05:00</td>\n",
       "      <td>0.0</td>\n",
       "    </tr>\n",
       "    <tr>\n",
       "      <th>2</th>\n",
       "      <td>40351</td>\n",
       "      <td>40351</td>\n",
       "      <td>INCIDENTE</td>\n",
       "      <td>RIO DE JANEIRO</td>\n",
       "      <td>RJ</td>\n",
       "      <td>SBRJ</td>\n",
       "      <td>2010-01-03</td>\n",
       "      <td>03:00:00</td>\n",
       "      <td>0.0</td>\n",
       "    </tr>\n",
       "    <tr>\n",
       "      <th>3</th>\n",
       "      <td>39527</td>\n",
       "      <td>39527</td>\n",
       "      <td>ACIDENTE</td>\n",
       "      <td>LUCAS DO RIO VERDE</td>\n",
       "      <td>MT</td>\n",
       "      <td>****</td>\n",
       "      <td>2010-01-04</td>\n",
       "      <td>17:30:00</td>\n",
       "      <td>0.0</td>\n",
       "    </tr>\n",
       "    <tr>\n",
       "      <th>4</th>\n",
       "      <td>40324</td>\n",
       "      <td>40324</td>\n",
       "      <td>INCIDENTE</td>\n",
       "      <td>PELOTAS</td>\n",
       "      <td>RS</td>\n",
       "      <td>SBPK</td>\n",
       "      <td>2010-01-05</td>\n",
       "      <td>19:25:00</td>\n",
       "      <td>0.0</td>\n",
       "    </tr>\n",
       "    <tr>\n",
       "      <th>5</th>\n",
       "      <td>39807</td>\n",
       "      <td>39807</td>\n",
       "      <td>INCIDENTE</td>\n",
       "      <td>SALVADOR</td>\n",
       "      <td>BA</td>\n",
       "      <td>****</td>\n",
       "      <td>2010-01-06</td>\n",
       "      <td>17:53:00</td>\n",
       "      <td>0.0</td>\n",
       "    </tr>\n",
       "    <tr>\n",
       "      <th>6</th>\n",
       "      <td>40215</td>\n",
       "      <td>40215</td>\n",
       "      <td>INCIDENTE</td>\n",
       "      <td>COARI</td>\n",
       "      <td>AM</td>\n",
       "      <td>SBUY</td>\n",
       "      <td>2010-01-07</td>\n",
       "      <td>18:40:00</td>\n",
       "      <td>0.0</td>\n",
       "    </tr>\n",
       "    <tr>\n",
       "      <th>7</th>\n",
       "      <td>39707</td>\n",
       "      <td>39707</td>\n",
       "      <td>INCIDENTE GRAVE</td>\n",
       "      <td>CANUTAMA</td>\n",
       "      <td>AM</td>\n",
       "      <td>****</td>\n",
       "      <td>2010-01-09</td>\n",
       "      <td>12:30:00</td>\n",
       "      <td>3.0</td>\n",
       "    </tr>\n",
       "    <tr>\n",
       "      <th>8</th>\n",
       "      <td>39156</td>\n",
       "      <td>39156</td>\n",
       "      <td>INCIDENTE GRAVE</td>\n",
       "      <td>CASCAVEL</td>\n",
       "      <td>PR</td>\n",
       "      <td>SBCA</td>\n",
       "      <td>2010-01-10</td>\n",
       "      <td>23:15:00</td>\n",
       "      <td>2.0</td>\n",
       "    </tr>\n",
       "    <tr>\n",
       "      <th>9</th>\n",
       "      <td>39711</td>\n",
       "      <td>39711</td>\n",
       "      <td>INCIDENTE GRAVE</td>\n",
       "      <td>PARÁ DE MINAS</td>\n",
       "      <td>MG</td>\n",
       "      <td>****</td>\n",
       "      <td>2010-01-10</td>\n",
       "      <td>20:00:00</td>\n",
       "      <td>0.0</td>\n",
       "    </tr>\n",
       "  </tbody>\n",
       "</table>\n",
       "</div>"
      ],
      "text/plain": [
       "   codigo_ocorrencia  codigo_ocorrencia1 ocorrencia_classificacao  \\\n",
       "0              40211               40211                INCIDENTE   \n",
       "1              40349               40349                INCIDENTE   \n",
       "2              40351               40351                INCIDENTE   \n",
       "3              39527               39527                 ACIDENTE   \n",
       "4              40324               40324                INCIDENTE   \n",
       "5              39807               39807                INCIDENTE   \n",
       "6              40215               40215                INCIDENTE   \n",
       "7              39707               39707          INCIDENTE GRAVE   \n",
       "8              39156               39156          INCIDENTE GRAVE   \n",
       "9              39711               39711          INCIDENTE GRAVE   \n",
       "\n",
       "    ocorrencia_cidade ocorrencia_uf ocorrencia_aerodromo ocorrencia_dia  \\\n",
       "0      RIO DE JANEIRO            RJ                 ****     2010-01-03   \n",
       "1               BELÉM            PA                 SBBE     2010-01-03   \n",
       "2      RIO DE JANEIRO            RJ                 SBRJ     2010-01-03   \n",
       "3  LUCAS DO RIO VERDE            MT                 ****     2010-01-04   \n",
       "4             PELOTAS            RS                 SBPK     2010-01-05   \n",
       "5            SALVADOR            BA                 ****     2010-01-06   \n",
       "6               COARI            AM                 SBUY     2010-01-07   \n",
       "7            CANUTAMA            AM                 ****     2010-01-09   \n",
       "8            CASCAVEL            PR                 SBCA     2010-01-10   \n",
       "9       PARÁ DE MINAS            MG                 ****     2010-01-10   \n",
       "\n",
       "  ocorrencia_hora  total_recomendacoes  \n",
       "0        12:00:00                  0.0  \n",
       "1        11:05:00                  0.0  \n",
       "2        03:00:00                  0.0  \n",
       "3        17:30:00                  0.0  \n",
       "4        19:25:00                  0.0  \n",
       "5        17:53:00                  0.0  \n",
       "6        18:40:00                  0.0  \n",
       "7        12:30:00                  3.0  \n",
       "8        23:15:00                  2.0  \n",
       "9        20:00:00                  0.0  "
      ]
     },
     "execution_count": 2,
     "metadata": {},
     "output_type": "execute_result"
    }
   ],
   "source": [
    "df = pd.read_csv(\"ocorrencia.csv\", parse_dates=['ocorrencia_dia'], dayfirst=True)\n",
    "df.head(10)\n"
   ]
  },
  {
   "cell_type": "code",
   "execution_count": 3,
   "id": "a107292e-3918-45a0-9c3f-eb9a865dba0d",
   "metadata": {},
   "outputs": [
    {
     "data": {
      "text/plain": [
       "codigo_ocorrencia                    int64\n",
       "codigo_ocorrencia1                   int64\n",
       "ocorrencia_classificacao            object\n",
       "ocorrencia_cidade                   object\n",
       "ocorrencia_uf                       object\n",
       "ocorrencia_aerodromo                object\n",
       "ocorrencia_dia              datetime64[ns]\n",
       "ocorrencia_hora                     object\n",
       "total_recomendacoes                float64\n",
       "dtype: object"
      ]
     },
     "execution_count": 3,
     "metadata": {},
     "output_type": "execute_result"
    }
   ],
   "source": [
    "df.dtypes"
   ]
  },
  {
   "cell_type": "code",
   "execution_count": 4,
   "id": "82d9d2a4-dfb7-4bf8-b20e-4105e143b218",
   "metadata": {},
   "outputs": [
    {
     "data": {
      "text/plain": [
       "0       1.0\n",
       "1       1.0\n",
       "2       1.0\n",
       "3       1.0\n",
       "4       1.0\n",
       "       ... \n",
       "6109    8.0\n",
       "6110    8.0\n",
       "6111    8.0\n",
       "6112    8.0\n",
       "6113    8.0\n",
       "Name: ocorrencia_dia, Length: 6114, dtype: float64"
      ]
     },
     "execution_count": 4,
     "metadata": {},
     "output_type": "execute_result"
    }
   ],
   "source": [
    "df.ocorrencia_dia.dt.month"
   ]
  },
  {
   "cell_type": "code",
   "execution_count": 11,
   "id": "188b64a2-e759-443c-888f-37ca4d529e38",
   "metadata": {},
   "outputs": [],
   "source": [
    "schema = pa.DataFrameSchema(\n",
    "    columns={\n",
    "        \n",
    "        \"codigo_ocorrencia\":pa.Column(pa.Int)\n",
    "        \n",
    "    }\n",
    ")"
   ]
  },
  {
   "cell_type": "code",
   "execution_count": 10,
   "id": "e96d3b78-13b5-4fff-87db-18fd55a873f2",
   "metadata": {},
   "outputs": [
    {
     "ename": "SchemaError",
     "evalue": "column 'codigo_ocorrenci' not in dataframe\n   codigo_ocorrencia  codigo_ocorrencia1 ocorrencia_classificacao  \\\n0              40211               40211                INCIDENTE   \n1              40349               40349                INCIDENTE   \n2              40351               40351                INCIDENTE   \n3              39527               39527                 ACIDENTE   \n4              40324               40324                INCIDENTE   \n\n    ocorrencia_cidade ocorrencia_uf ocorrencia_aerodromo ocorrencia_dia  \\\n0      RIO DE JANEIRO            RJ                 ****     2010-01-03   \n1               BELÉM            PA                 SBBE     2010-01-03   \n2      RIO DE JANEIRO            RJ                 SBRJ     2010-01-03   \n3  LUCAS DO RIO VERDE            MT                 ****     2010-01-04   \n4             PELOTAS            RS                 SBPK     2010-01-05   \n\n  ocorrencia_hora  total_recomendacoes  \n0        12:00:00                  0.0  \n1        11:05:00                  0.0  \n2        03:00:00                  0.0  \n3        17:30:00                  0.0  \n4        19:25:00                  0.0  ",
     "output_type": "error",
     "traceback": [
      "\u001b[1;31m---------------------------------------------------------------------------\u001b[0m",
      "\u001b[1;31mSchemaError\u001b[0m                               Traceback (most recent call last)",
      "\u001b[1;32m~\\AppData\\Local\\Temp/ipykernel_9792/994206330.py\u001b[0m in \u001b[0;36m<module>\u001b[1;34m\u001b[0m\n\u001b[1;32m----> 1\u001b[1;33m \u001b[0mschema\u001b[0m\u001b[1;33m.\u001b[0m\u001b[0mvalidate\u001b[0m\u001b[1;33m(\u001b[0m\u001b[0mdf\u001b[0m\u001b[1;33m)\u001b[0m\u001b[1;33m\u001b[0m\u001b[1;33m\u001b[0m\u001b[0m\n\u001b[0m",
      "\u001b[1;32m~\\AppData\\Roaming\\Python\\Python38\\site-packages\\pandera\\schemas.py\u001b[0m in \u001b[0;36mvalidate\u001b[1;34m(self, check_obj, head, tail, sample, random_state, lazy, inplace)\u001b[0m\n\u001b[0;32m    550\u001b[0m                     \u001b[1;34mf\"column '{colname}' not in dataframe\\n{check_obj.head()}\"\u001b[0m\u001b[1;33m\u001b[0m\u001b[1;33m\u001b[0m\u001b[0m\n\u001b[0;32m    551\u001b[0m                 )\n\u001b[1;32m--> 552\u001b[1;33m                 error_handler.collect_error(\n\u001b[0m\u001b[0;32m    553\u001b[0m                     \u001b[1;34m\"column_not_in_dataframe\"\u001b[0m\u001b[1;33m,\u001b[0m\u001b[1;33m\u001b[0m\u001b[1;33m\u001b[0m\u001b[0m\n\u001b[0;32m    554\u001b[0m                     errors.SchemaError(\n",
      "\u001b[1;32m~\\AppData\\Roaming\\Python\\Python38\\site-packages\\pandera\\error_handlers.py\u001b[0m in \u001b[0;36mcollect_error\u001b[1;34m(self, reason_code, schema_error, original_exc)\u001b[0m\n\u001b[0;32m     30\u001b[0m         \"\"\"\n\u001b[0;32m     31\u001b[0m         \u001b[1;32mif\u001b[0m \u001b[1;32mnot\u001b[0m \u001b[0mself\u001b[0m\u001b[1;33m.\u001b[0m\u001b[0m_lazy\u001b[0m\u001b[1;33m:\u001b[0m\u001b[1;33m\u001b[0m\u001b[1;33m\u001b[0m\u001b[0m\n\u001b[1;32m---> 32\u001b[1;33m             \u001b[1;32mraise\u001b[0m \u001b[0mschema_error\u001b[0m \u001b[1;32mfrom\u001b[0m \u001b[0moriginal_exc\u001b[0m\u001b[1;33m\u001b[0m\u001b[1;33m\u001b[0m\u001b[0m\n\u001b[0m\u001b[0;32m     33\u001b[0m \u001b[1;33m\u001b[0m\u001b[0m\n\u001b[0;32m     34\u001b[0m         \u001b[1;31m# delete data of validated object from SchemaError object to prevent\u001b[0m\u001b[1;33m\u001b[0m\u001b[1;33m\u001b[0m\u001b[1;33m\u001b[0m\u001b[0m\n",
      "\u001b[1;31mSchemaError\u001b[0m: column 'codigo_ocorrenci' not in dataframe\n   codigo_ocorrencia  codigo_ocorrencia1 ocorrencia_classificacao  \\\n0              40211               40211                INCIDENTE   \n1              40349               40349                INCIDENTE   \n2              40351               40351                INCIDENTE   \n3              39527               39527                 ACIDENTE   \n4              40324               40324                INCIDENTE   \n\n    ocorrencia_cidade ocorrencia_uf ocorrencia_aerodromo ocorrencia_dia  \\\n0      RIO DE JANEIRO            RJ                 ****     2010-01-03   \n1               BELÉM            PA                 SBBE     2010-01-03   \n2      RIO DE JANEIRO            RJ                 SBRJ     2010-01-03   \n3  LUCAS DO RIO VERDE            MT                 ****     2010-01-04   \n4             PELOTAS            RS                 SBPK     2010-01-05   \n\n  ocorrencia_hora  total_recomendacoes  \n0        12:00:00                  0.0  \n1        11:05:00                  0.0  \n2        03:00:00                  0.0  \n3        17:30:00                  0.0  \n4        19:25:00                  0.0  "
     ]
    }
   ],
   "source": [
    "schema.validate(df)"
   ]
  },
  {
   "cell_type": "code",
   "execution_count": null,
   "id": "0a48da53-d49c-4134-8620-e274625c2830",
   "metadata": {},
   "outputs": [],
   "source": []
  }
 ],
 "metadata": {
  "kernelspec": {
   "display_name": "Python 3 (ipykernel)",
   "language": "python",
   "name": "python3"
  },
  "language_info": {
   "codemirror_mode": {
    "name": "ipython",
    "version": 3
   },
   "file_extension": ".py",
   "mimetype": "text/x-python",
   "name": "python",
   "nbconvert_exporter": "python",
   "pygments_lexer": "ipython3",
   "version": "3.8.5"
  }
 },
 "nbformat": 4,
 "nbformat_minor": 5
}
